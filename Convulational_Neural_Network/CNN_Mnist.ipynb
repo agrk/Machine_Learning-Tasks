{
 "cells": [
  {
   "cell_type": "markdown",
   "metadata": {},
   "source": [
    "### Firstly, include all necessary libraries"
   ]
  },
  {
   "cell_type": "code",
   "execution_count": 4,
   "metadata": {},
   "outputs": [],
   "source": [
    "import numpy as np\n",
    "import keras\n",
    "from keras.datasets import mnist\n",
    "from keras.models import Model\n",
    "from keras.layers import Dense, Input\n",
    "from keras.layers import Conv2D, MaxPooling2D, Dropout, Flatten\n",
    "from keras import backend as k\n"
   ]
  },
  {
   "cell_type": "markdown",
   "metadata": {},
   "source": [
    "### Create the train data and test data\n"
   ]
  },
  {
   "cell_type": "code",
   "execution_count": 7,
   "metadata": {},
   "outputs": [],
   "source": [
    "(x_train, y_train), (x_test, y_test) = mnist.load_data()"
   ]
  },
  {
   "cell_type": "markdown",
   "metadata": {},
   "source": [
    "### Checking data-format:"
   ]
  },
  {
   "cell_type": "code",
   "execution_count": 9,
   "metadata": {},
   "outputs": [],
   "source": [
    "img_rows, img_cols=28, 28\n",
    "\n",
    "if k.image_data_format() == 'channels_first':\n",
    "    x_train = x_train.reshape(x_train.shape[0], 1, img_rows, img_cols)\n",
    "    x_test = x_test.reshape(x_test.shape[0], 1, img_rows, img_cols)\n",
    "    inpx = (1, img_rows, img_cols)\n",
    "\n",
    "else:\n",
    "    x_train = x_train.reshape(x_train.shape[0], img_rows, img_cols, 1)\n",
    "    x_test = x_test.reshape(x_test.shape[0], img_rows, img_cols, 1)\n",
    "    inpx = (img_rows, img_cols, 1)\n",
    "\n",
    "x_train = x_train.astype('float32')\n",
    "x_test = x_test.astype('float32')\n",
    "x_train /= 255\n",
    "x_test /= 255\n"
   ]
  },
  {
   "cell_type": "markdown",
   "metadata": {},
   "source": [
    "### Description of the output classes:"
   ]
  },
  {
   "cell_type": "markdown",
   "metadata": {},
   "source": [
    "Modelin çıktısı 0 ile 9 arasındaki herhangi bir rakamdan oluşabileceği için çıktıda 10 sınıfa ihtiyacımız var. 10 sınıfın çıktısını almak için 10 sütun sağlayacak olan keras.utils.to_categorical işlevini kullanın. Bu 10 sütundan sadece bir değer bir olacak ve geri kalan 9 sıfır olacak ve çıktının bu bir değeri basamağın sınıfını gösterecek."
   ]
  },
  {
   "cell_type": "code",
   "execution_count": 10,
   "metadata": {},
   "outputs": [],
   "source": [
    "y_train = keras.utils.to_categorical(y_train)\n",
    "y_test = keras.utils.to_categorical(y_test)\n"
   ]
  },
  {
   "cell_type": "markdown",
   "metadata": {},
   "source": [
    "Şimdi veri seti hazır, bu yüzden CNN modeline geçelim:"
   ]
  },
  {
   "cell_type": "code",
   "execution_count": 11,
   "metadata": {},
   "outputs": [],
   "source": [
    "inpx = Input(shape=inpx)\n",
    "layer1 = Conv2D(32, kernel_size=(3, 3), activation='relu')(inpx)\n",
    "layer2 = Conv2D(64, (3, 3), activation='relu')(layer1)\n",
    "layer3 = MaxPooling2D(pool_size=(3, 3))(layer2)\n",
    "layer4 = Dropout(0.5)(layer3)\n",
    "layer5 = Flatten()(layer4)\n",
    "layer6 = Dense(250, activation='sigmoid')(layer5)\n",
    "layer7 = Dense(10, activation='softmax')(layer6)\n"
   ]
  },
  {
   "cell_type": "markdown",
   "metadata": {},
   "source": [
    "### Calling compile and fit function:\n"
   ]
  },
  {
   "cell_type": "code",
   "execution_count": 14,
   "metadata": {},
   "outputs": [
    {
     "name": "stdout",
     "output_type": "stream",
     "text": [
      "Epoch 1/12\n",
      "120/120 [==============================] - 45s 374ms/step - loss: 2.2884 - accuracy: 0.1090\n",
      "Epoch 2/12\n",
      "120/120 [==============================] - 53s 438ms/step - loss: 2.2764 - accuracy: 0.1144\n",
      "Epoch 3/12\n",
      "120/120 [==============================] - 53s 439ms/step - loss: 2.2652 - accuracy: 0.1228\n",
      "Epoch 4/12\n",
      "120/120 [==============================] - 52s 435ms/step - loss: 2.2534 - accuracy: 0.1407\n",
      "Epoch 5/12\n",
      "120/120 [==============================] - 53s 445ms/step - loss: 2.2420 - accuracy: 0.1638\n",
      "Epoch 6/12\n",
      "120/120 [==============================] - 54s 448ms/step - loss: 2.2305 - accuracy: 0.1973\n",
      "Epoch 7/12\n",
      "120/120 [==============================] - 53s 443ms/step - loss: 2.2203 - accuracy: 0.2373\n",
      "Epoch 8/12\n",
      "120/120 [==============================] - 54s 449ms/step - loss: 2.2093 - accuracy: 0.2767\n",
      "Epoch 9/12\n",
      "120/120 [==============================] - 53s 442ms/step - loss: 2.1986 - accuracy: 0.3161\n",
      "Epoch 10/12\n",
      "120/120 [==============================] - 53s 442ms/step - loss: 2.1871 - accuracy: 0.3593\n",
      "Epoch 11/12\n",
      "120/120 [==============================] - 55s 458ms/step - loss: 2.1752 - accuracy: 0.3965\n",
      "Epoch 12/12\n",
      "120/120 [==============================] - 60s 503ms/step - loss: 2.1649 - accuracy: 0.4235\n"
     ]
    },
    {
     "data": {
      "text/plain": [
       "<tensorflow.python.keras.callbacks.History at 0x213001cb820>"
      ]
     },
     "execution_count": 14,
     "metadata": {},
     "output_type": "execute_result"
    }
   ],
   "source": [
    "model = Model([inpx], layer7)\n",
    "model.compile(optimizer=keras.optimizers.Adadelta(),\n",
    "\t\t\tloss=keras.losses.categorical_crossentropy,\n",
    "\t\t\tmetrics=['accuracy'])\n",
    "\n",
    "model.fit(x_train, y_train, epochs=12, batch_size=500)\n"
   ]
  },
  {
   "cell_type": "markdown",
   "metadata": {},
   "source": [
    "İlk olarak, yukarıda verilen satırlarda gösterildiği gibi modelin bir nesnesini yaptık, burada [inpx] modeldeki girdi ve katman7 modelin çıktısı. Modeli gerekli optimize edici, kayıp fonksiyonunu kullanarak derledik ve doğruluğu yazdırdık ve son olarak model.fit, x_train(görüntü vektörleri anlamına gelir), y_train(etiket anlamına gelir), dönem sayısı ve parti boyutu gibi parametrelerle birlikte çağrıldı. x_train sığdırma işlevi kullanılarak, y_train veri kümesi belirli bir toplu iş boyutundaki modele beslenir."
   ]
  },
  {
   "cell_type": "markdown",
   "metadata": {},
   "source": [
    "### Evaluate function:\n"
   ]
  },
  {
   "cell_type": "markdown",
   "metadata": {},
   "source": [
    "model.evaluate, test verileri için puanı sağlar, yani test verilerini modele sağlar. Şimdi, model verilerin sınıfını tahmin edecek ve tahmin edilen sınıf bize doğruluğu vermek için y_test etiketi ile eşleştirilecektir."
   ]
  },
  {
   "cell_type": "code",
   "execution_count": 17,
   "metadata": {},
   "outputs": [
    {
     "name": "stdout",
     "output_type": "stream",
     "text": [
      "loss= 2.1509411334991455\n",
      "accuracy= 51.70000195503235\n"
     ]
    }
   ],
   "source": [
    "score = model.evaluate(x_test, y_test, verbose=0)\n",
    "print('loss=', score[0])\n",
    "print('accuracy=', score[1]*100)\n"
   ]
  },
  {
   "cell_type": "code",
   "execution_count": 18,
   "metadata": {},
   "outputs": [
    {
     "name": "stdout",
     "output_type": "stream",
     "text": [
      "\n",
      "Accuracy for train set : % 50.753\n",
      "Accuracy for test set   : % 51.700\n"
     ]
    }
   ],
   "source": [
    "accuracy_train = model.evaluate(X_train, y_train, verbose = 0)[1]\n",
    "accuracy_test = model.evaluate(X_test, y_test, verbose = 0)[1]\n",
    "\n",
    "print(\"\\nAccuracy for train set : % {:.3f}\".format(accuracy_train*100))\n",
    "print(\"Accuracy for test set   : % {:.3f}\".format(accuracy_test*100))"
   ]
  },
  {
   "cell_type": "code",
   "execution_count": null,
   "metadata": {},
   "outputs": [],
   "source": []
  }
 ],
 "metadata": {
  "kernelspec": {
   "display_name": "Python 3",
   "language": "python",
   "name": "python3"
  },
  "language_info": {
   "codemirror_mode": {
    "name": "ipython",
    "version": 3
   },
   "file_extension": ".py",
   "mimetype": "text/x-python",
   "name": "python",
   "nbconvert_exporter": "python",
   "pygments_lexer": "ipython3",
   "version": "3.8.3"
  }
 },
 "nbformat": 4,
 "nbformat_minor": 4
}
