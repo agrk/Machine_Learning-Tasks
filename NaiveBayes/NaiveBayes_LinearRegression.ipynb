{
  "nbformat": 4,
  "nbformat_minor": 0,
  "metadata": {
    "colab": {
      "name": "TASK3.ipynb",
      "provenance": []
    },
    "kernelspec": {
      "name": "python3",
      "display_name": "Python 3"
    },
    "language_info": {
      "name": "python"
    }
  },
  "cells": [
    {
      "cell_type": "code",
      "metadata": {
        "id": "P6DNXxe6JEFf"
      },
      "source": [
        "import numpy as np\n",
        "import pandas as pd"
      ],
      "execution_count": null,
      "outputs": []
    },
    {
      "cell_type": "code",
      "metadata": {
        "id": "otk1caMgJLs3"
      },
      "source": [
        "from sklearn.datasets import load_iris\n",
        "from sklearn.model_selection import train_test_split\n",
        "from sklearn.naive_bayes import GaussianNB\n",
        "X, y = load_iris(return_X_y=True)\n"
      ],
      "execution_count": null,
      "outputs": []
    },
    {
      "cell_type": "code",
      "metadata": {
        "id": "RFvbJZU9KvW9"
      },
      "source": [
        "X_train, X_test, y_train, y_test = train_test_split(X, y, test_size=0.5, random_state=0)"
      ],
      "execution_count": null,
      "outputs": []
    },
    {
      "cell_type": "code",
      "metadata": {
        "id": "yLjY6P9dKvUF"
      },
      "source": [
        "gnb = GaussianNB()\n",
        "model=gnb.fit(X_train, y_train)"
      ],
      "execution_count": null,
      "outputs": []
    },
    {
      "cell_type": "code",
      "metadata": {
        "colab": {
          "base_uri": "https://localhost:8080/"
        },
        "id": "HZKpH5oOLXpW",
        "outputId": "3daea7fe-7c93-4163-bcc4-1852c05a5a6d"
      },
      "source": [
        "train_accuracy = gnb.score(X_train, y_train)\n",
        "test_accuracy = gnb.score(X_test, y_test)\n",
        "\n",
        "print('One-vs.-Rest', '-'*30, \n",
        "      'Accuracy on Train Data : {:.2f}'.format(train_accuracy), \n",
        "      'Accuracy on Test Data  : {:.2f}'.format(test_accuracy), sep='\\n')"
      ],
      "execution_count": null,
      "outputs": [
        {
          "output_type": "stream",
          "text": [
            "One-vs.-Rest\n",
            "------------------------------\n",
            "Accuracy on Train Data : 0.97\n",
            "Accuracy on Test Data  : 0.95\n"
          ],
          "name": "stdout"
        }
      ]
    },
    {
      "cell_type": "code",
      "metadata": {
        "colab": {
          "base_uri": "https://localhost:8080/"
        },
        "id": "48uaPYlnKvRO",
        "outputId": "cf1c8f6b-1216-4f57-a382-1603af493a5f"
      },
      "source": [
        "\n",
        "y_pred = gnb.fit(X_train, y_train).predict(X_test)\n",
        "print(\"Number of mislabeled points out of a total %d points : %d\"% (X_test.shape[0], (y_test != y_pred).sum()))"
      ],
      "execution_count": null,
      "outputs": [
        {
          "output_type": "stream",
          "text": [
            "Number of mislabeled points out of a total 75 points : 4\n"
          ],
          "name": "stdout"
        }
      ]
    },
    {
      "cell_type": "code",
      "metadata": {
        "id": "iAqiEtG3JN9-"
      },
      "source": [
        "from sklearn.model_selection import cross_val_score"
      ],
      "execution_count": null,
      "outputs": []
    },
    {
      "cell_type": "code",
      "metadata": {
        "colab": {
          "base_uri": "https://localhost:8080/"
        },
        "id": "-KUREXO_UFN3",
        "outputId": "32c704e5-947b-4961-b3c6-4b4bce0c538f"
      },
      "source": [
        "cv = cross_validate(estimator=gnb,\n",
        "                    X=X,\n",
        "                    y=y,\n",
        "                    cv=2,\n",
        "                    return_train_score=True,\n",
        "                   )\n",
        "\n",
        "print('Train Scores :', cv['train_score'], sep = '\\n')\n",
        "print(\"-\"*50)\n",
        "print('Test Scores     :', cv['test_score'], sep = '\\n')"
      ],
      "execution_count": null,
      "outputs": [
        {
          "output_type": "stream",
          "text": [
            "Train Scores :\n",
            "[0.97333333 0.96      ]\n",
            "--------------------------------------------------\n",
            "Test Scores     :\n",
            "[0.92 0.96]\n"
          ],
          "name": "stdout"
        }
      ]
    },
    {
      "cell_type": "code",
      "metadata": {
        "colab": {
          "base_uri": "https://localhost:8080/"
        },
        "id": "dotsAt2cUyDw",
        "outputId": "4ba1d275-a91f-48b3-98de-de72a374efa4"
      },
      "source": [
        "print('Mean score of train set : ', cv['train_score'].mean())\n",
        "print('Mean score of test set  : ', cv['test_score'].mean())"
      ],
      "execution_count": null,
      "outputs": [
        {
          "output_type": "stream",
          "text": [
            "Mean score of train set :  0.9666666666666667\n",
            "Mean score of test set  :  0.94\n"
          ],
          "name": "stdout"
        }
      ]
    },
    {
      "cell_type": "code",
      "metadata": {
        "colab": {
          "base_uri": "https://localhost:8080/"
        },
        "id": "X29gTWRFJPvu",
        "outputId": "3dce069d-0883-40fd-a9fc-06f88e62b1b7"
      },
      "source": [
        "cross_val_score(model,X_train,y_train,cv=2,scoring=\"neg_mean_squared_error\")"
      ],
      "execution_count": null,
      "outputs": [
        {
          "output_type": "execute_result",
          "data": {
            "text/plain": [
              "array([-0.        , -0.05405405])"
            ]
          },
          "metadata": {
            "tags": []
          },
          "execution_count": 44
        }
      ]
    },
    {
      "cell_type": "code",
      "metadata": {
        "colab": {
          "base_uri": "https://localhost:8080/"
        },
        "id": "OOpCi1GFJRYm",
        "outputId": "f168332d-2109-4434-ce9e-7539e826e57f"
      },
      "source": [
        "np.mean(-cross_val_score(model,X_train,y_train,cv=2,scoring=\"neg_mean_squared_error\"))"
      ],
      "execution_count": null,
      "outputs": [
        {
          "output_type": "execute_result",
          "data": {
            "text/plain": [
              "0.02702702702702703"
            ]
          },
          "metadata": {
            "tags": []
          },
          "execution_count": 5
        }
      ]
    },
    {
      "cell_type": "code",
      "metadata": {
        "colab": {
          "base_uri": "https://localhost:8080/"
        },
        "id": "nYZ8nW8cJTDF",
        "outputId": "3fa7c864-b5b5-4cea-decf-37a1712a1723"
      },
      "source": [
        "from sklearn.datasets import load_iris\n",
        "from sklearn.model_selection import train_test_split\n",
        "from sklearn.linear_model import LinearRegression\n",
        "lm=LinearRegression()\n",
        "X, y = load_iris(return_X_y=True)\n",
        "X_train, X_test, y_train, y_test = train_test_split(X, y, test_size=0.5, random_state=0)\n",
        "model=lm.fit(X,y)\n",
        "y_pred = model.fit(X_train, y_train).predict(X_test)\n",
        "print(\"Number of mislabeled points out of a total %d points : %d\"% (X_test.shape[0], (y_test != y_pred).sum()))"
      ],
      "execution_count": null,
      "outputs": [
        {
          "output_type": "stream",
          "text": [
            "Number of mislabeled points out of a total 75 points : 75\n"
          ],
          "name": "stdout"
        }
      ]
    },
    {
      "cell_type": "code",
      "metadata": {
        "id": "3c1oPjAiJVwV"
      },
      "source": [
        "from sklearn.model_selection import cross_val_score\n",
        "from sklearn.model_selection import cross_validate, cross_val_score\n"
      ],
      "execution_count": null,
      "outputs": []
    },
    {
      "cell_type": "code",
      "metadata": {
        "colab": {
          "base_uri": "https://localhost:8080/"
        },
        "id": "cLxnowi5Jbal",
        "outputId": "1a559ed8-537c-4a52-ae17-425a22cb44d5"
      },
      "source": [
        "cv = cross_validate(estimator=lm,\n",
        "                    X=X,\n",
        "                    y=y,\n",
        "                    cv=2,\n",
        "                    return_train_score=True,\n",
        "                   )\n",
        "\n",
        "print('Train Scores :', cv['train_score'], sep = '\\n')\n",
        "print(\"-\"*50)\n",
        "print('Test Scores     :', cv['test_score'], sep = '\\n')"
      ],
      "execution_count": null,
      "outputs": [
        {
          "output_type": "stream",
          "text": [
            "Train Scores :\n",
            "[0.76106941 0.96947638]\n",
            "--------------------------------------------------\n",
            "Test Scores     :\n",
            "[-0.2290573 -0.20856  ]\n"
          ],
          "name": "stdout"
        }
      ]
    },
    {
      "cell_type": "code",
      "metadata": {
        "colab": {
          "base_uri": "https://localhost:8080/"
        },
        "id": "4keO6L50RGQw",
        "outputId": "18dac23c-3f5d-439e-c233-ba6aff6cbefc"
      },
      "source": [
        "print('Mean score of train set : ', cv['train_score'].mean())\n",
        "print('Mean score of test set  : ', cv['test_score'].mean())"
      ],
      "execution_count": null,
      "outputs": [
        {
          "output_type": "stream",
          "text": [
            "Mean score of train set :  0.8652728939706416\n",
            "Mean score of test set  :  -0.21880865293650198\n"
          ],
          "name": "stdout"
        }
      ]
    },
    {
      "cell_type": "code",
      "metadata": {
        "colab": {
          "base_uri": "https://localhost:8080/"
        },
        "id": "z8QFL9OqJXVe",
        "outputId": "9c74bb74-7cf3-4d82-9b80-ac13293cb853"
      },
      "source": [
        "cross_val_score(model,X_train,y_train,cv=2,scoring=\"neg_mean_squared_error\")"
      ],
      "execution_count": null,
      "outputs": [
        {
          "output_type": "execute_result",
          "data": {
            "text/plain": [
              "array([-0.        , -0.05405405])"
            ]
          },
          "metadata": {
            "tags": []
          },
          "execution_count": 48
        }
      ]
    },
    {
      "cell_type": "code",
      "metadata": {
        "colab": {
          "base_uri": "https://localhost:8080/"
        },
        "id": "DIWJcJ1CJZBk",
        "outputId": "f5f23f88-6ff9-419c-cc6b-701b54d2a39e"
      },
      "source": [
        "np.mean(-cross_val_score(model,X_train,y_train,cv=2,scoring=\"neg_mean_squared_error\"))"
      ],
      "execution_count": null,
      "outputs": [
        {
          "output_type": "execute_result",
          "data": {
            "text/plain": [
              "0.02702702702702703"
            ]
          },
          "metadata": {
            "tags": []
          },
          "execution_count": 49
        }
      ]
    },
    {
      "cell_type": "code",
      "metadata": {
        "id": "8_DJi9moVSC4"
      },
      "source": [
        ""
      ],
      "execution_count": null,
      "outputs": []
    }
  ]
}