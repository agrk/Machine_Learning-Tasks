{
 "cells": [
  {
   "cell_type": "markdown",
   "metadata": {},
   "source": [
    "## \"An introduction to Q-Learning: Reinforcement Learning\""
   ]
  },
  {
   "cell_type": "markdown",
   "metadata": {},
   "source": [
    "![](https://i.ibb.co/c8LXj7X/Capture.png)\n",
    "\n",
    "<center>The environment</center>"
   ]
  },
  {
   "cell_type": "code",
   "execution_count": 10,
   "metadata": {},
   "outputs": [],
   "source": [
    "# Only numpy\n",
    "import numpy as np"
   ]
  },
  {
   "cell_type": "code",
   "execution_count": 11,
   "metadata": {},
   "outputs": [],
   "source": [
    "# Initialize parameters\n",
    "gamma = 0.75 # Discount factor \n",
    "alpha = 0.9 # Learning rate "
   ]
  },
  {
   "cell_type": "code",
   "execution_count": 12,
   "metadata": {},
   "outputs": [],
   "source": [
    "# Define the states\n",
    "location_to_state = {\n",
    "    'L1' : 0,\n",
    "    'L2' : 1,\n",
    "    'L3' : 2,\n",
    "    'L4' : 3,\n",
    "    'L5' : 4,\n",
    "    'L6' : 5,\n",
    "    'L7' : 6,\n",
    "    'L8' : 7,\n",
    "    'L9' : 8\n",
    "}"
   ]
  },
  {
   "cell_type": "code",
   "execution_count": 13,
   "metadata": {},
   "outputs": [],
   "source": [
    "# Define the actions\n",
    "actions = [0,1,2,3,4,5,6,7,8]"
   ]
  },
  {
   "cell_type": "markdown",
   "metadata": {},
   "source": [
    "![](https://i.ibb.co/k4kgnQS/Capture.png)\n",
    "\n",
    "<center>Rewards' table</center>"
   ]
  },
  {
   "cell_type": "code",
   "execution_count": 14,
   "metadata": {},
   "outputs": [],
   "source": [
    "# Define the rewards\n",
    "rewards = np.array([[0,1,0,0,0,0,0,0,0],\n",
    "              [1,0,1,0,0,0,0,0,0],\n",
    "              [0,1,0,0,0,1,0,0,0],\n",
    "              [0,0,0,0,0,0,1,0,0],\n",
    "              [0,1,0,0,0,0,0,1,0],\n",
    "              [0,0,1,0,0,0,0,0,0],\n",
    "              [0,0,0,1,0,0,0,1,0],\n",
    "              [0,0,0,0,1,0,1,0,1],\n",
    "              [0,0,0,0,0,0,0,1,0]])"
   ]
  },
  {
   "cell_type": "code",
   "execution_count": 15,
   "metadata": {},
   "outputs": [],
   "source": [
    "# Indexleri konumlara eşliyoruz\n",
    "state_to_location = dict((state,location) for location,state in location_to_state.items())"
   ]
  },
  {
   "cell_type": "code",
   "execution_count": 16,
   "metadata": {},
   "outputs": [],
   "source": [
    "# Define the actions\n",
    "actions = [0,1,2,3,4,5,6,7,8]"
   ]
  },
  {
   "cell_type": "markdown",
   "metadata": {},
   "source": [
    "Aşağıdaki işlev iki argüman alacak:\n",
    "\n",
    "* Depodaki başlangıç konumu \n",
    "* Sırasıyla depodaki son konumu\n",
    "\n",
    "Sıralı bir liste biçiminde (harfleri içeren) başlangıç konumundan son konuma ulaşmak için en uygun rotayı döndürecektir."
   ]
  },
  {
   "cell_type": "code",
   "execution_count": 17,
   "metadata": {},
   "outputs": [],
   "source": [
    "def get_optimal_route(start_location,end_location):\n",
    "   \n",
    "    \n",
    "    rewards_new = np.copy(rewards)   # rexards matrisini yeni Matrise kopyalıyoruz\n",
    "    \n",
    "    \n",
    "    ending_state = location_to_state[end_location] # Verilen bitiş konumuna karşılık gelen bitiş durumunu alıyoruz\n",
    "    \n",
    "    # Yukarıdaki bilgilerle, verilen bitiş durumunun önceliğini otomatik olarak en yüksek olana ayarlayıyoruz\n",
    "    \n",
    "    rewards_new[ending_state,ending_state] = 999\n",
    "    \n",
    "\n",
    "    # -----------Q-Learning algorithm-----------\n",
    "   \n",
    "    \n",
    "    Q = np.array(np.zeros([9,9])) # Initializing Q-Values\n",
    "\n",
    "    # Q-Learning process\n",
    "    for i in range(1000):\n",
    "        \n",
    "        # Rastgele bir durum seçiyoruz\n",
    "        current_state = np.random.randint(0,9) # Python üst sınırı yani upper bound u hariç tutar\n",
    "        \n",
    "        \n",
    "        playable_actions = [] #Labirentteki komşu konumlardan geçmek için playable_actions adında bir liste oluşturuyoruz\n",
    "        \n",
    "   \n",
    "        # Yeni reward matrisini tekrarlıyoruz ve actionsları >0 dan büyük olacak şekilde alıyoruz.\n",
    "        for j in range(9):\n",
    "            if rewards_new[current_state,j] > 0:\n",
    "                playable_actions.append(j)\n",
    "                \n",
    "        # Bizi bir sonraki duruma götüren playable_actions listesinden rastgele bir action seçiyoruz\n",
    "        \n",
    "        next_state = np.random.choice(playable_actions)\n",
    "        \n",
    "        # Zamansal farkı hesaplıyoruz\n",
    "        # Buradaki eylem tam olarak bir sonraki duruma geçmeyi ifade ediyor aslında\n",
    "        \n",
    "        TD = rewards_new[current_state,next_state] + gamma * Q[next_state, np.argmax(Q[next_state,])] - Q[current_state,next_state]\n",
    "        \n",
    "\n",
    "        # Bellman denklemini kullanarak Q Değerini güncelleyiyoruz\n",
    "        Q[current_state,next_state] += alpha * TD\n",
    "\n",
    "    # Başlangıç konumu ile en uygun rotayı initialize ediyoruz.\n",
    "    route = [start_location]\n",
    "    \n",
    "    # Bir sonraki konumu henüz bilmiyoruz, bu nedenle başlangıç konumunun değeriyle başlıyoruz\n",
    "    next_location = start_location\n",
    "    \n",
    "    # We don't know about the exact number of iterations needed to reach to the final location hence while loop will be a good choice for iteratiing\n",
    "    # son konuma ulaşmak için gereken yineleme sayısını tam olarak bilmiyoruz, bu nedenle döngü yineleme için iyi bir seçim olacaktır\n",
    "    while(next_location != end_location):\n",
    "        \n",
    "        # Başlangıç durumunu getiriyoruz ve starting_state değerine atıyoruz.\n",
    "        starting_state = location_to_state[start_location]\n",
    "        \n",
    "        # Başlangıç durumuna ait en yüksek Q değerini getirip next_state e atıyoruz\n",
    "        next_state = np.argmax(Q[starting_state,])\n",
    "        \n",
    "        # Bir sonraki durumun dizinini alıyoruz burda. Ancak corresponding letter a ihtiyacımız var. \n",
    "        next_location = state_to_location[next_state]\n",
    "        route.append(next_location)\n",
    "        \n",
    "        # Sonraki iteration için başlangıç konumunu güncelliyoruz \n",
    "        start_location = next_location\n",
    "    \n",
    "    return route"
   ]
  },
  {
   "cell_type": "code",
   "execution_count": 18,
   "metadata": {},
   "outputs": [
    {
     "name": "stdout",
     "output_type": "stream",
     "text": [
      "['L9', 'L8', 'L5', 'L2', 'L1']\n"
     ]
    }
   ],
   "source": [
    "print(get_optimal_route('L9', 'L1'))"
   ]
  }
 ],
 "metadata": {
  "kernelspec": {
   "display_name": "Python 3",
   "language": "python",
   "name": "python3"
  },
  "language_info": {
   "codemirror_mode": {
    "name": "ipython",
    "version": 3
   },
   "file_extension": ".py",
   "mimetype": "text/x-python",
   "name": "python",
   "nbconvert_exporter": "python",
   "pygments_lexer": "ipython3",
   "version": "3.8.3"
  },
  "latex_envs": {
   "LaTeX_envs_menu_present": true,
   "autoclose": false,
   "autocomplete": true,
   "bibliofile": "biblio.bib",
   "cite_by": "apalike",
   "current_citInitial": 1,
   "eqLabelWithNumbers": true,
   "eqNumInitial": 1,
   "hotkeys": {
    "equation": "Ctrl-E",
    "itemize": "Ctrl-I"
   },
   "labels_anchors": false,
   "latex_user_defs": false,
   "report_style_numbering": false,
   "user_envs_cfg": false
  },
  "toc": {
   "base_numbering": 1,
   "nav_menu": {},
   "number_sections": false,
   "sideBar": true,
   "skip_h1_title": false,
   "title_cell": "Table of Contents",
   "title_sidebar": "Contents",
   "toc_cell": false,
   "toc_position": {},
   "toc_section_display": true,
   "toc_window_display": false
  }
 },
 "nbformat": 4,
 "nbformat_minor": 1
}
