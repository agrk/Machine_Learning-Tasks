{
 "cells": [
  {
   "cell_type": "markdown",
   "metadata": {},
   "source": [
    "### RBF NEURAL NETWORK TO CLASSIFY"
   ]
  },
  {
   "cell_type": "markdown",
   "metadata": {},
   "source": [
    "Öncelikle RBFNN'de kullanılacak gerekli fonksiyonları tanımlamamız gerekiyor. Düzenlenmiş \"kmeans\" fonksiyonu, küme merkezlerini ve ayrıca kümelerin standart sapmasını döndürür."
   ]
  },
  {
   "cell_type": "code",
   "execution_count": 1,
   "metadata": {},
   "outputs": [],
   "source": [
    "import numpy as np\n",
    "\n",
    "\n",
    "def get_distance(x1, x2):\n",
    "    sum = 0\n",
    "    for i in range(len(x1)):\n",
    "        sum += (x1[i] - x2[i]) ** 2\n",
    "    return np.sqrt(sum)\n",
    "\n",
    "\n",
    "def kmeans(X, k, max_iters):\n",
    "  \n",
    "    centroids = X[np.random.choice(range(len(X)), k, replace=False)]\n",
    "\n",
    "    converged = False\n",
    "    \n",
    "    current_iter = 0\n",
    "\n",
    "    while (not converged) and (current_iter < max_iters):\n",
    "\n",
    "        cluster_list = [[] for i in range(len(centroids))]\n",
    "\n",
    "        for x in X:  # Go through each data point\n",
    "            distances_list = []\n",
    "            for c in centroids:\n",
    "                distances_list.append(get_distance(c, x))\n",
    "            cluster_list[int(np.argmin(distances_list))].append(x)\n",
    "\n",
    "        cluster_list = list((filter(None, cluster_list)))\n",
    "\n",
    "        prev_centroids = centroids.copy()\n",
    "\n",
    "        centroids = []\n",
    "\n",
    "        for j in range(len(cluster_list)):\n",
    "            centroids.append(np.mean(cluster_list[j], axis=0))\n",
    "\n",
    "        pattern = np.abs(np.sum(prev_centroids) - np.sum(centroids))\n",
    "\n",
    "        print('K-MEANS: ', int(pattern))\n",
    "\n",
    "        converged = (pattern == 0)\n",
    "\n",
    "        current_iter += 1\n",
    "\n",
    "    return np.array(centroids), [np.std(x) for x in cluster_list]"
   ]
  },
  {
   "cell_type": "markdown",
   "metadata": {},
   "source": [
    " Uygulamayı daha kolay hale getirmek için, RBFNN'yi bir sınıf olarak kodlayabiliriz."
   ]
  },
  {
   "cell_type": "code",
   "execution_count": 39,
   "metadata": {},
   "outputs": [],
   "source": [
    "class RBF:\n",
    "\n",
    "    def __init__(self, X, y, tX, ty, num_of_classes,\n",
    "                 k, std_from_clusters=True):\n",
    "        self.X = X\n",
    "        self.y = y\n",
    "\n",
    "        self.tX = tX\n",
    "        self.ty = ty\n",
    "\n",
    "        self.number_of_classes = num_of_classes\n",
    "        self.k = k\n",
    "        self.std_from_clusters = std_from_clusters\n",
    "\n",
    "    def convert_to_one_hot(self, x, num_of_classes):\n",
    "        arr = np.zeros((len(x), num_of_classes))\n",
    "        for i in range(len(x)):\n",
    "            c = int(x[i])\n",
    "            arr[i][c] = 1\n",
    "        return arr\n",
    "\n",
    "    def rbf(self, x, c, s):\n",
    "        distance = get_distance(x, c)\n",
    "        return 1 / np.exp(-distance / s ** 2)\n",
    "\n",
    "    def rbf_list(self, X, centroids, std_list):\n",
    "        RBF_list = []\n",
    "        for x in X:\n",
    "            RBF_list.append([self.rbf(x, c, s) for (c, s) in zip(centroids, std_list)])\n",
    "        return np.array(RBF_list)\n",
    "    \n",
    "    def fit(self):\n",
    "\n",
    "        self.centroids, self.std_list = kmeans(self.X, self.k, max_iters=1000)\n",
    "\n",
    "        if not self.std_from_clusters:\n",
    "            dMax = np.max([get_distance(c1, c2) for c1 in self.centroids for c2 in self.centroids])\n",
    "            self.std_list = np.repeat(dMax / np.sqrt(2 * self.k), self.k)\n",
    "\n",
    "        RBF_X = self.rbf_list(self.X, self.centroids, self.std_list)\n",
    "\n",
    "        self.w = np.linalg.pinv(RBF_X.T @ RBF_X) @ RBF_X.T @ self.convert_to_one_hot(self.y, self.number_of_classes)\n",
    "\n",
    "        RBF_list_tst = self.rbf_list(self.tX, self.centroids, self.std_list)\n",
    "\n",
    "        self.pred_ty = RBF_list_tst @ self.w\n",
    "\n",
    "        self.pred_ty = np.array([np.argmax(x) for x in self.pred_ty])\n",
    "\n",
    "        diff = self.pred_ty - self.ty\n",
    "\n",
    "        print('Accuracy: ', len(np.where(diff == 0)[0]) / len(diff))"
   ]
  },
  {
   "cell_type": "markdown",
   "metadata": {},
   "source": [
    "Fit Function: İlk satırlar, ağırlık merkezlerini ve kümelerin standart sapmasını elde etmek için k-ortalamalarını gerçekleştirir. Ardından , belirtilen denklemi kullanarak algoritmanın tüm küme merkezler için aynı **Betayı** kullanmasını sağlayabiliriz . Sonraki satırlarda, X girişinin RBF'sini alıyoruz ve uygun bir ağırlık matrisi **W** elde etmek için En Küçük Kareler Optimizasyonunu uyguluyoruz . Ek olarak, modelin doğruluğunu ölçmek için son birkaç satırda test verileri kullanılır."
   ]
  },
  {
   "cell_type": "code",
   "execution_count": null,
   "metadata": {},
   "outputs": [],
   "source": []
  },
  {
   "cell_type": "markdown",
   "metadata": {},
   "source": [
    "MNIST veri setini eğitim ve teste ayırın ve RBFNN'nin işini yapmasına izin verin."
   ]
  },
  {
   "cell_type": "code",
   "execution_count": 4,
   "metadata": {},
   "outputs": [
    {
     "name": "stdout",
     "output_type": "stream",
     "text": [
      "K-MEANS:  601\n",
      "K-MEANS:  3\n",
      "K-MEANS:  4\n",
      "K-MEANS:  8\n",
      "K-MEANS:  0\n",
      "Accuracy:  0.975\n"
     ]
    }
   ],
   "source": [
    "data = np.load('mnist_data.npy').astype(float)\n",
    "\n",
    "train_y = data[0:5000, 0]\n",
    "train_x = data[0:5000, 1:]\n",
    "\n",
    "test_y = data[0:1000, 0]\n",
    "test_x = data[0:1000, 1:]\n",
    "\n",
    "RBF_CLASSIFIER = RBF(train_x, train_y, test_x, test_y, num_of_classes=10,k=500, std_from_clusters=False)\n",
    "\n",
    "RBF_CLASSIFIER.fit()"
   ]
  },
  {
   "cell_type": "code",
   "execution_count": 15,
   "metadata": {},
   "outputs": [
    {
     "name": "stdout",
     "output_type": "stream",
     "text": [
      "K-MEANS:  3918\n",
      "K-MEANS:  281\n",
      "K-MEANS:  0\n",
      "K-MEANS:  0\n",
      "Accuracy:  0.9764309764309764\n"
     ]
    }
   ],
   "source": [
    "data2 = np.load('data.npy').astype(float)\n",
    "\n",
    "train_y2 = data2[0:5000, 0]\n",
    "train_x2 = data2[0:5000, 2:]\n",
    "\n",
    "test_y2 = data2[0:1000, 0]\n",
    "test_x2 = data2[0:1000, 2:]\n",
    "\n",
    "RBF_CLASSIFIER2 = RBF(train_x2, train_y2, test_x2, test_y2, num_of_classes=10,k=500, std_from_clusters=False)\n",
    "\n",
    "RBF_CLASSIFIER2.fit()"
   ]
  },
  {
   "cell_type": "code",
   "execution_count": 28,
   "metadata": {},
   "outputs": [
    {
     "name": "stdout",
     "output_type": "stream",
     "text": [
      "K-MEANS:  0\n",
      "Accuracy:  0.6161616161616161\n"
     ]
    },
    {
     "name": "stderr",
     "output_type": "stream",
     "text": [
      "<ipython-input-2-5c0b36b492fb>:24: RuntimeWarning: invalid value encountered in double_scalars\n",
      "  return 1 / np.exp(-distance / s ** 2)\n"
     ]
    }
   ],
   "source": [
    "data3 = np.load('labels.npy').astype(float)\n",
    "\n",
    "train_y3 = data3[0:5000, 0]\n",
    "train_x3 = data3[0:5000, 2:]\n",
    "\n",
    "test_y3 = data3[0:1000, 0]\n",
    "test_x3 = data3[0:1000, 2:]\n",
    "\n",
    "RBF_CLASSIFIER = RBF(train_x3, train_y3, test_x3, test_y3, num_of_classes=10,k=500, std_from_clusters=False)\n",
    "\n",
    "RBF_CLASSIFIER.fit()"
   ]
  },
  {
   "cell_type": "code",
   "execution_count": 6,
   "metadata": {},
   "outputs": [],
   "source": [
    "\n",
    "# First read into csv with pandas\n",
    "#data = pd.read_csv(\"Telco.csv\")\n",
    " # Save numpy as npy\n",
    "#np.save(\"telco.npy\", data)"
   ]
  },
  {
   "cell_type": "code",
   "execution_count": null,
   "metadata": {},
   "outputs": [],
   "source": []
  },
  {
   "cell_type": "code",
   "execution_count": null,
   "metadata": {},
   "outputs": [],
   "source": []
  },
  {
   "cell_type": "markdown",
   "metadata": {},
   "source": [
    "Sonuç olarak, RBFNN, sınıflandırma ve regresyon görevleri için güçlü modellerden biridir. RBF ağları, birçok RBF eğrisi kullanarak temeldeki örüntüleri tahmin etmeyi öğrenebilir. Optimizasyon süreci için istatistiksel denklemin uygulanması, algoritmayı MLP yapılı ağlara kıyasla daha kolay ve hızlı hale getirir . Ancak, K - küme sayısı ve Beta gibi hiperparametrelerin ince ayarı çalışma, zaman ve pratik gerektirir."
   ]
  },
  {
   "cell_type": "code",
   "execution_count": null,
   "metadata": {},
   "outputs": [],
   "source": []
  },
  {
   "cell_type": "markdown",
   "metadata": {},
   "source": [
    "### RBF AS A KERNEL"
   ]
  },
  {
   "cell_type": "code",
   "execution_count": 36,
   "metadata": {},
   "outputs": [
    {
     "name": "stdout",
     "output_type": "stream",
     "text": [
      "0.9866666666666667\n"
     ]
    },
    {
     "data": {
      "text/plain": [
       "array([[0.83548752, 0.03228706, 0.13222543],\n",
       "       [0.79064206, 0.06525643, 0.14410151]])"
      ]
     },
     "execution_count": 36,
     "metadata": {},
     "output_type": "execute_result"
    }
   ],
   "source": [
    "\n",
    "from sklearn.datasets import load_iris,load_breast_cancer,load_digits,load_wine\n",
    "from sklearn.gaussian_process import GaussianProcessClassifier\n",
    "from sklearn.gaussian_process.kernels import RBF\n",
    "from sklearn.model_selection import train_test_split,GridSearchCV\n",
    "X, y = load_iris(return_X_y=True)\n",
    "kernel = 1.0 * RBF(1.0)\n",
    "gpc = GaussianProcessClassifier(kernel=kernel,random_state=0).fit(X, y)\n",
    "print(gpc.score(X, y))\n",
    "gpc.predict_proba(X[:2,:])"
   ]
  },
  {
   "cell_type": "code",
   "execution_count": 30,
   "metadata": {},
   "outputs": [],
   "source": [
    "import numpy as np\n",
    "import pandas as pd"
   ]
  },
  {
   "cell_type": "code",
   "execution_count": 31,
   "metadata": {},
   "outputs": [],
   "source": [
    "from warnings import filterwarnings\n",
    "filterwarnings('ignore')"
   ]
  },
  {
   "cell_type": "code",
   "execution_count": 32,
   "metadata": {},
   "outputs": [
    {
     "name": "stdout",
     "output_type": "stream",
     "text": [
      "0.9595782073813708\n"
     ]
    },
    {
     "data": {
      "text/plain": [
       "array([[0.82897859, 0.17102141],\n",
       "       [0.72387831, 0.27612169]])"
      ]
     },
     "execution_count": 32,
     "metadata": {},
     "output_type": "execute_result"
    }
   ],
   "source": [
    "X, y = load_breast_cancer(return_X_y=True)\n",
    "kernel = 1.0 * RBF(1.0)\n",
    "gpc = GaussianProcessClassifier(kernel=kernel,random_state=0).fit(X, y)\n",
    "print(gpc.score(X, y))\n",
    "gpc.predict_proba(X[:2,:])"
   ]
  },
  {
   "cell_type": "code",
   "execution_count": 38,
   "metadata": {},
   "outputs": [
    {
     "name": "stdout",
     "output_type": "stream",
     "text": [
      "1.0\n"
     ]
    },
    {
     "data": {
      "text/plain": [
       "array([[0.10000045, 0.09999995, 0.09999995, 0.09999995, 0.09999995,\n",
       "        0.09999995, 0.09999995, 0.09999995, 0.09999995, 0.09999995],\n",
       "       [0.09999995, 0.10000045, 0.09999995, 0.09999995, 0.09999995,\n",
       "        0.09999995, 0.09999995, 0.09999995, 0.09999995, 0.09999995]])"
      ]
     },
     "execution_count": 38,
     "metadata": {},
     "output_type": "execute_result"
    }
   ],
   "source": [
    "X, y = load_digits(return_X_y=True)\n",
    "kernel = 1.0 * RBF(1.0)\n",
    "gpc = GaussianProcessClassifier(kernel=kernel,random_state=0).fit(X, y)\n",
    "print(gpc.score(X, y))\n",
    "gpc.predict_proba(X[:2,:])"
   ]
  },
  {
   "cell_type": "code",
   "execution_count": null,
   "metadata": {},
   "outputs": [],
   "source": []
  }
 ],
 "metadata": {
  "kernelspec": {
   "display_name": "Python 3",
   "language": "python",
   "name": "python3"
  },
  "language_info": {
   "codemirror_mode": {
    "name": "ipython",
    "version": 3
   },
   "file_extension": ".py",
   "mimetype": "text/x-python",
   "name": "python",
   "nbconvert_exporter": "python",
   "pygments_lexer": "ipython3",
   "version": "3.8.3"
  }
 },
 "nbformat": 4,
 "nbformat_minor": 4
}
